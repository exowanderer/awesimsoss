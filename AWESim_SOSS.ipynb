{
 "cells": [
  {
   "cell_type": "markdown",
   "metadata": {},
   "source": [
    "# AWESim SOSS\n",
    "\n",
    "**Analyzing Webb Exoplanet Simulations with SOSS**"
   ]
  },
  {
   "cell_type": "code",
   "execution_count": 11,
   "metadata": {},
   "outputs": [
    {
     "name": "stdout",
     "output_type": "stream",
     "text": [
      "The autoreload extension is already loaded. To reload it, use:\n",
      "  %reload_ext autoreload\n"
     ]
    }
   ],
   "source": [
    "# Magic functions\n",
    "%matplotlib inline\n",
    "%load_ext autoreload\n",
    "%autoreload 2"
   ]
  },
  {
   "cell_type": "code",
   "execution_count": 22,
   "metadata": {},
   "outputs": [
    {
     "ename": "ModuleNotFoundError",
     "evalue": "No module named 'AWESim_SOSS'",
     "output_type": "error",
     "traceback": [
      "\u001b[0;31m---------------------------------------------------------------------------\u001b[0m",
      "\u001b[0;31mModuleNotFoundError\u001b[0m                       Traceback (most recent call last)",
      "\u001b[0;32m<ipython-input-22-7fc473181f33>\u001b[0m in \u001b[0;36m<module>\u001b[0;34m()\u001b[0m\n\u001b[1;32m     10\u001b[0m \u001b[0;32mfrom\u001b[0m \u001b[0mExoCTK\u001b[0m \u001b[0;32mimport\u001b[0m \u001b[0msvo\u001b[0m\u001b[0;34m\u001b[0m\u001b[0m\n\u001b[1;32m     11\u001b[0m \u001b[0;32mfrom\u001b[0m \u001b[0mExoCTK\u001b[0m \u001b[0;32mimport\u001b[0m \u001b[0mcore\u001b[0m\u001b[0;34m\u001b[0m\u001b[0m\n\u001b[0;32m---> 12\u001b[0;31m \u001b[0;32mfrom\u001b[0m \u001b[0mAWESim_SOSS\u001b[0m \u001b[0;32mimport\u001b[0m \u001b[0mawesim\u001b[0m\u001b[0;34m\u001b[0m\u001b[0m\n\u001b[0m",
      "\u001b[0;31mModuleNotFoundError\u001b[0m: No module named 'AWESim_SOSS'"
     ]
    }
   ],
   "source": [
    "# Imports\n",
    "import os\n",
    "import pickle\n",
    "import batman\n",
    "import numpy as np\n",
    "import matplotlib\n",
    "import matplotlib.pyplot as plt\n",
    "import astropy.units as q\n",
    "import astropy.constants as ac\n",
    "from ExoCTK import svo\n",
    "from ExoCTK import core\n",
    "from AWESim_SOSS import awesim"
   ]
  },
  {
   "cell_type": "code",
   "execution_count": 13,
   "metadata": {
    "collapsed": true
   },
   "outputs": [],
   "source": [
    "plt.rcParams['figure.dpi'] = 300"
   ]
  },
  {
   "cell_type": "code",
   "execution_count": 14,
   "metadata": {
    "collapsed": true
   },
   "outputs": [],
   "source": [
    "os.environ['MODELGRID_DIR'] = '/user/jfilippazzo/Models/ACES/default/'"
   ]
  },
  {
   "cell_type": "code",
   "execution_count": 15,
   "metadata": {
    "collapsed": true
   },
   "outputs": [],
   "source": [
    "# Create time axis for our simulations\n",
    "bjd = np.linspace(-0.2, 0.2, 200)"
   ]
  },
  {
   "cell_type": "markdown",
   "metadata": {},
   "source": [
    "## Late-M Dwarf TSO\n",
    "\n",
    "Here is how to generate time series observations of a brown dwarf (or any other isolated star with no transiting planet).\n",
    "\n",
    "We need two components to generate this simulation:\n",
    "- A flux calibrated stellar spectrum\n",
    "- A time axis for each frame of the TSO\n",
    "\n",
    "We will pull a model spectrum for our desired object from the Phoenix ACES library and flux calibrate it so that it has a 9.3 K-band magnitude."
   ]
  },
  {
   "cell_type": "code",
   "execution_count": 16,
   "metadata": {},
   "outputs": [
    {
     "name": "stdout",
     "output_type": "stream",
     "text": [
      "518 models loaded from /user/jfilippazzo/Models/ACES/default/\n",
      "8/518 spectra in parameter range Teff: (3500, 3600) , logg: (5, 5.5) , FeH: (0, 0.5) , wavelength: (0.5, 2.8)\n",
      "Loading flux into table...\n",
      "100.00 percent complete!\n",
      "Interpolating grid point [3550/5/0]...\n",
      "Run time in seconds:  9.713749885559082\n"
     ]
    }
   ],
   "source": [
    "# BD spectrum from model grid @ mu=1\n",
    "teff, logg, feh = 3550, 5, 0\n",
    "model_grid = core.ModelGrid(os.environ['MODELGRID_DIR'], Teff_rng=(3500,3600), logg_rng=(5,5.5), FeH_rng=(0,0.5), wave_rng=(0.5,2.8), resolution=700)\n",
    "star = model_grid.get(teff, logg, feh)\n",
    "wave_s_raw, flux_s_raw = star['wave'], star['flux'][-1]"
   ]
  },
  {
   "cell_type": "markdown",
   "metadata": {},
   "source": [
    "Now let's scale it from the stellar surface (which is just the model grid output) to our desired K magnitude."
   ]
  },
  {
   "cell_type": "code",
   "execution_count": 17,
   "metadata": {},
   "outputs": [
    {
     "ename": "NameError",
     "evalue": "name 'awesim' is not defined",
     "output_type": "error",
     "traceback": [
      "\u001b[0;31m---------------------------------------------------------------------------\u001b[0m",
      "\u001b[0;31mNameError\u001b[0m                                 Traceback (most recent call last)",
      "\u001b[0;32m<ipython-input-17-cd5180cde381>\u001b[0m in \u001b[0;36m<module>\u001b[0;34m()\u001b[0m\n\u001b[1;32m      2\u001b[0m \u001b[0mKmag\u001b[0m \u001b[0;34m=\u001b[0m \u001b[0;36m9.3\u001b[0m\u001b[0;34m\u001b[0m\u001b[0m\n\u001b[1;32m      3\u001b[0m \u001b[0mK\u001b[0m \u001b[0;34m=\u001b[0m \u001b[0msvo\u001b[0m\u001b[0;34m.\u001b[0m\u001b[0mFilter\u001b[0m\u001b[0;34m(\u001b[0m\u001b[0;34m'2MASS.Ks'\u001b[0m\u001b[0;34m)\u001b[0m\u001b[0;34m\u001b[0m\u001b[0m\n\u001b[0;32m----> 4\u001b[0;31m \u001b[0mwave_s\u001b[0m\u001b[0;34m,\u001b[0m \u001b[0mflux_s\u001b[0m\u001b[0;34m,\u001b[0m \u001b[0;34m*\u001b[0m\u001b[0m_\u001b[0m \u001b[0;34m=\u001b[0m \u001b[0mawesim\u001b[0m\u001b[0;34m.\u001b[0m\u001b[0mnorm_to_mag\u001b[0m\u001b[0;34m(\u001b[0m\u001b[0;34m[\u001b[0m\u001b[0mwave_s_raw\u001b[0m\u001b[0;34m*\u001b[0m\u001b[0mq\u001b[0m\u001b[0;34m.\u001b[0m\u001b[0mum\u001b[0m\u001b[0;34m,\u001b[0m\u001b[0mflux_s_raw\u001b[0m\u001b[0;34m*\u001b[0m\u001b[0mq\u001b[0m\u001b[0;34m.\u001b[0m\u001b[0merg\u001b[0m\u001b[0;34m/\u001b[0m\u001b[0mq\u001b[0m\u001b[0;34m.\u001b[0m\u001b[0ms\u001b[0m\u001b[0;34m/\u001b[0m\u001b[0mq\u001b[0m\u001b[0;34m.\u001b[0m\u001b[0mcm\u001b[0m\u001b[0;34m**\u001b[0m\u001b[0;36m2\u001b[0m\u001b[0;34m/\u001b[0m\u001b[0mq\u001b[0m\u001b[0;34m.\u001b[0m\u001b[0mAA\u001b[0m\u001b[0;34m]\u001b[0m\u001b[0;34m,\u001b[0m \u001b[0mKmag\u001b[0m\u001b[0;34m,\u001b[0m \u001b[0mK\u001b[0m\u001b[0;34m)\u001b[0m\u001b[0;34m\u001b[0m\u001b[0m\n\u001b[0m\u001b[1;32m      5\u001b[0m \u001b[0mMdwarf\u001b[0m \u001b[0;34m=\u001b[0m \u001b[0;34m[\u001b[0m\u001b[0mwave_s\u001b[0m\u001b[0;34m,\u001b[0m \u001b[0mflux_s\u001b[0m\u001b[0;34m]\u001b[0m\u001b[0;34m\u001b[0m\u001b[0m\n\u001b[1;32m      6\u001b[0m \u001b[0;34m\u001b[0m\u001b[0m\n",
      "\u001b[0;31mNameError\u001b[0m: name 'awesim' is not defined"
     ]
    }
   ],
   "source": [
    "# Scale by K magnitude\n",
    "Kmag = 9.3\n",
    "K = svo.Filter('2MASS.Ks')\n",
    "wave_s, flux_s, *_ = awesim.norm_to_mag([wave_s_raw*q.um,flux_s_raw*q.erg/q.s/q.cm**2/q.AA], Kmag, K)\n",
    "Mdwarf = [wave_s, flux_s]\n",
    "\n",
    "# Plot it \n",
    "plt.figure(figsize=(13,2));\n",
    "plt.plot(*Mdwarf);\n",
    "plt.xlim(0.5,2.9);\n",
    "plt.title('Stellar spectrum @ K={}'.format(Kmag));\n",
    "plt.ylabel('Flux Density [erg/s/cm2/A]');\n",
    "plt.xlabel('Wavelength [um]');"
   ]
  },
  {
   "cell_type": "markdown",
   "metadata": {},
   "source": [
    "Since there is no planet involved, we only need the stellar spectrum and the time axis to generate the simulation."
   ]
  },
  {
   "cell_type": "code",
   "execution_count": null,
   "metadata": {},
   "outputs": [],
   "source": [
    "# Run the simulation\n",
    "TSO1 = awesim.TSO(bjd, Mdwarf)"
   ]
  },
  {
   "cell_type": "code",
   "execution_count": null,
   "metadata": {},
   "outputs": [],
   "source": [
    "TSO1.plot_frame()"
   ]
  },
  {
   "cell_type": "markdown",
   "metadata": {},
   "source": [
    "## G 240-52 (M4 Dwarf for Kevin)\n",
    "\n",
    "This uses actual data, though there are gaps."
   ]
  },
  {
   "cell_type": "code",
   "execution_count": null,
   "metadata": {},
   "outputs": [],
   "source": [
    "# Get the raw data\n",
    "wave_s_raw, flux_s_raw = np.genfromtxt('data/m4v_combined_template.txt', unpack=True)\n",
    "\n",
    "# Scale by K magnitude\n",
    "Kmag = 9.128 # From SIMBAD\n",
    "wave_s, flux_s, *_ = awesim.norm_to_mag([wave_s_raw*q.um,flux_s_raw*q.erg/q.s/q.cm**2/q.AA], Kmag, K)\n",
    "M4 = [wave_s, flux_s]\n",
    "\n",
    "# Plot it \n",
    "plt.figure(figsize=(13,2))\n",
    "plt.plot(*M4)\n",
    "plt.xlim(0.5,2.9)\n",
    "plt.title('Stellar spectrum @ K={}'.format(Kmag))\n",
    "plt.ylabel('Flux Density [erg/s/cm2/A]')\n",
    "plt.xlabel('Wavelength [um]')"
   ]
  },
  {
   "cell_type": "code",
   "execution_count": null,
   "metadata": {},
   "outputs": [],
   "source": [
    "# Run the simulation\n",
    "TSO2 = awesim.TSO(bjd, M4)\n",
    "TSO2.plot_frame()"
   ]
  },
  {
   "cell_type": "markdown",
   "metadata": {},
   "source": [
    "## WASP-107 TSO (without planet)"
   ]
  },
  {
   "cell_type": "code",
   "execution_count": null,
   "metadata": {},
   "outputs": [],
   "source": [
    "# Stellar spectrum from model grid @ mu=1\n",
    "teff, logg, feh = 4430, 4.51, 0.02\n",
    "model_grid = core.ModelGrid(os.environ['MODELGRID_DIR'], Teff_rng=(4400,4500), logg_rng=(4.5,5), FeH_rng=(0,0.5), wave_rng=(0.5,2.8), resolution=700)\n",
    "star = model_grid.get(teff, logg, feh)\n",
    "wave_s_raw, flux_s_raw = star['wave'], star['flux'][-1]"
   ]
  },
  {
   "cell_type": "code",
   "execution_count": null,
   "metadata": {},
   "outputs": [],
   "source": [
    "# Scale by K magnitude\n",
    "Kmag = 8.637 # From SIMBAD\n",
    "wave_s, flux_s, *_ = awesim.norm_to_mag([wave_s_raw*q.um,flux_s_raw*q.erg/q.s/q.cm**2/q.AA], Kmag, K)\n",
    "WASP107 = [wave_s, flux_s]\n",
    "\n",
    "# Plot it \n",
    "plt.figure(figsize=(13,2))\n",
    "plt.plot(*WASP107)\n",
    "plt.xlim(0.5,2.9)\n",
    "plt.title('Stellar spectrum @ K={}'.format(Kmag))\n",
    "plt.ylabel('Flux Density [erg/s/cm2/A]')\n",
    "plt.xlabel('Wavelength [um]')"
   ]
  },
  {
   "cell_type": "code",
   "execution_count": null,
   "metadata": {},
   "outputs": [],
   "source": [
    "# Run the simulation\n",
    "TSO3 = awesim.TSO(bjd, WASP107)\n",
    "TSO3.plot_frame()"
   ]
  },
  {
   "cell_type": "markdown",
   "metadata": {},
   "source": [
    "## WASP 107 TSO (with planet)\n",
    "\n",
    "We need five components to generate a transiting exoplanet:\n",
    "- A flux calibrated stellar spectrum\n",
    "- A time axis for each frame of the TSO\n",
    "- A transmission spectrum of the planet\n",
    "- A map of the limb darkening coefficients at each pixel\n",
    "- The orbital parameters of the planet\n",
    "\n",
    "We have the stellar spectrum from above so let's get the planetary transmission spectrum (generated with Exotransmit)."
   ]
  },
  {
   "cell_type": "code",
   "execution_count": null,
   "metadata": {},
   "outputs": [],
   "source": [
    "# Get the forward model planet spectrum generated by Matt...\n",
    "WASP107b = np.genfromtxt('AWESim_SOSS/data/WASP107b_pandexo_input_spectrum.dat', unpack=True)\n",
    "\n",
    "# Plot it\n",
    "plt.plot(*WASP107b)\n",
    "plt.xlim(0.5,2.9)\n",
    "plt.title('Planetary Transmission Spectrum @ mu=1')\n",
    "plt.ylabel('Rp/R*')\n",
    "plt.xlabel('Wavelength [um]')"
   ]
  },
  {
   "cell_type": "markdown",
   "metadata": {},
   "source": [
    "Now we must calaulate a map of the limb darkening coefficients for the star through the GR700XD filter. This takes a few minutes so I precomputed and saved the values."
   ]
  },
  {
   "cell_type": "code",
   "execution_count": null,
   "metadata": {
    "collapsed": true
   },
   "outputs": [],
   "source": [
    "# Specify the limb darkening profile\n",
    "profile = 'quadratic'\n",
    "\n",
    "# # ================================================================================================================================================\n",
    "# # Get the GR700XD filter throughput\n",
    "# filt = os.path.join(os.path.join(os.path.dirname(core.__file__),'AWESim_SOSS/data/filters/NIRISS.GR700XD.1.txt'))\n",
    "# GR700XD = svo.Filter('GR700XD', np.genfromtxt(filt, unpack=True), n_bins=85, wl_min=0.8*q.um, wl_max=2.5*q.um)\n",
    "# GR700XD.plot()\n",
    "# GR700XD.info()\n",
    "\n",
    "# Calculate the limb darkening coefficients for 85 bins between 0.8 and 2.5um\n",
    "# savepath = '/Users/jfilippazzo/Desktop/WASP107_LDC.txt'\n",
    "# ldcs = lf.ldc(teff, logg, feh, model_grid, ['quadratic'], bandpass=GR700XD, grid_point=star.copy(), mu_min=0.08, save=savepath)\n",
    "\n",
    "# GR700XD_WL = svo.Filter('GR700XD', np.genfromtxt(filt, unpack=True), n_bins=1, wl_min=0.8*q.um, wl_max=2.5*q.um)\n",
    "# ldcs_WL = lf.ldc(teff, logg, feh, model_grid, ['quadratic'], bandpass=GR700XD_WL, grid_point=star.copy(), mu_min=0.08, save=savepath.replace('.txt','_WL.txt'), plot=True)\n",
    "\n",
    "# w0, c1, e1, c2, e2 = list(zip(*ldcs['quadratic']['coeffs']))\n",
    "# plt.scatter(c1, c2, c=w0, cmap='viridis')\n",
    "# plt.colorbar()\n",
    "# w0, c1, e1, c2, e2 = list(zip(*ldcs_WL['quadratic']['coeffs']))\n",
    "# plt.scatter(c1[0], c2[0], c='r', s=50, zorder=10)\n",
    "# plt.xlabel('c1')\n",
    "# plt.ylabel('c2')\n",
    "\n",
    "# Generate the coefficient wave map\n",
    "# ld_coeffs_lookup = spec2D.ld_coefficient_lookup(lam1, profile, star, model_grid)\n",
    "# coeff_map = spec2D.ld_coefficients(lam1, ld_coeffs_lookup)\n",
    "# np.save('AWESim_SOSS/{}_ldc_map.npy'.format(profile), coeff_map)\n",
    "# # ================================================================================================================================================\n",
    "\n",
    "# Get the LDC map from file\n",
    "ld_coeffs = np.load('AWESim_SOSS/{}_ldc_map.npy'.format(profile))"
   ]
  },
  {
   "cell_type": "markdown",
   "metadata": {},
   "source": [
    "Now let's use Batman to set the orbital paramaters."
   ]
  },
  {
   "cell_type": "code",
   "execution_count": null,
   "metadata": {},
   "outputs": [],
   "source": [
    "# Set the wavelength independent orbital parameters\n",
    "params = batman.TransitParams()\n",
    "params.t0 = 0.                                # time of inferior conjunction\n",
    "params.per = 5.7214742                        # orbital period\n",
    "params.a = 0.0558*q.AU.to(ac.R_sun)*0.66      # semi-major axis (in units of stellar radii)\n",
    "params.inc = 89.8                             # orbital inclination (in degrees)\n",
    "params.ecc = 0.                               # eccentricity\n",
    "params.w = 90.                                # longitude of periastron (in degrees)\n",
    "\n",
    "# Test it\n",
    "params.limb_dark = 'quadratic'\n",
    "params.u = ld_coeffs[5]\n",
    "params.rp = (0.94*ac.R_jup.to(ac.R_sun)*0.66).value\n",
    "\n",
    "# Generate the light curve for this pixel\n",
    "m = batman.TransitModel(params, bjd) \n",
    "lc = m.light_curve(params)\n",
    "\n",
    "plt.plot(bjd, lc)\n",
    "plt.ylim(0.995,1.0005)"
   ]
  },
  {
   "cell_type": "markdown",
   "metadata": {},
   "source": [
    "Now we can run the simulator."
   ]
  },
  {
   "cell_type": "code",
   "execution_count": null,
   "metadata": {},
   "outputs": [],
   "source": [
    "# Create TSO object\n",
    "TSO4 = awesim.TSO(bjd, WASP107, WASP107b, params, ld_coeffs)\n",
    "TSO4.plot_frame()"
   ]
  },
  {
   "cell_type": "code",
   "execution_count": null,
   "metadata": {
    "collapsed": true
   },
   "outputs": [],
   "source": [
    "TSO4.plot_lightcurve([15,150,300])"
   ]
  }
 ],
 "metadata": {
  "anaconda-cloud": {},
  "kernelspec": {
   "display_name": "Python 3",
   "language": "python",
   "name": "python3"
  },
  "language_info": {
   "codemirror_mode": {
    "name": "ipython",
    "version": 3
   },
   "file_extension": ".py",
   "mimetype": "text/x-python",
   "name": "python",
   "nbconvert_exporter": "python",
   "pygments_lexer": "ipython3",
   "version": "3.6.2"
  }
 },
 "nbformat": 4,
 "nbformat_minor": 1
}
