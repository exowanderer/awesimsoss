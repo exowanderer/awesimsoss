{
 "cells": [
  {
   "cell_type": "markdown",
   "metadata": {},
   "source": [
    "# Introduction to `awesimsoss`\n",
    "\n",
    "**Advanced Webb Exposure Simulator for SOSS**"
   ]
  },
  {
   "cell_type": "code",
   "execution_count": null,
   "metadata": {},
   "outputs": [],
   "source": [
    "%matplotlib inline\n",
    "%load_ext autoreload\n",
    "%autoreload 2"
   ]
  },
  {
   "cell_type": "code",
   "execution_count": null,
   "metadata": {},
   "outputs": [],
   "source": [
    "import numpy as np\n",
    "import astropy.units as q\n",
    "import astropy.constants as ac\n",
    "from bokeh.io import output_notebook\n",
    "from bokeh.plotting import figure, show\n",
    "import batman\n",
    "from pkg_resources import resource_filename\n",
    "from awesimsoss import awesim\n",
    "\n",
    "output_notebook()"
   ]
  },
  {
   "cell_type": "markdown",
   "metadata": {},
   "source": [
    "## M Dwarf (no planet)\n",
    "Here is how to generate time series observations of a brown dwarf (or any other isolated star with no transiting planet).\n",
    "\n",
    "We need two components to generate this simulation:\n",
    "- A flux calibrated stellar spectrum\n",
    "- A specified number of integrations and groups for the observation\n",
    "\n",
    "Let's use this 3500K stellar spectrum with a J magnitude of 9."
   ]
  },
  {
   "cell_type": "code",
   "execution_count": null,
   "metadata": {},
   "outputs": [],
   "source": [
    "# Get the wavelength and flux of the star with units \n",
    "star = np.genfromtxt(resource_filename('awesimsoss','files/scaled_spectrum.txt'), unpack=True)\n",
    "star_wave, star_flux = [star[0][:1000]*q.um, (star[1][:1000]*q.W/q.m**2/q.um).to(q.erg/q.s/q.cm**2/q.AA)]  \n",
    "\n",
    "# Plot it\n",
    "fig = figure(width=600, height=300, title='3500 K star with Jmag=9')\n",
    "fig.line(star_wave, star_flux, legend='Input Spectrum')\n",
    "fig.xaxis.axis_label = 'Wavelength [um]'\n",
    "fig.yaxis.axis_label = 'Flux Density [erg/s/cm3/A]'\n",
    "show(fig)"
   ]
  },
  {
   "cell_type": "markdown",
   "metadata": {},
   "source": [
    "Now we can intialize the simulation by passing the number of groups (3) and integrations (10) along with the stellar spectrum to the `TSO` class."
   ]
  },
  {
   "cell_type": "code",
   "execution_count": null,
   "metadata": {},
   "outputs": [],
   "source": [
    "# Initialize the simulation with 3 groups and 10 integrations\n",
    "my_TSO = awesim.TSO(ngrps=2, nints=2, star=[star_wave, star_flux], target='WASP-107')  "
   ]
  },
  {
   "cell_type": "code",
   "execution_count": null,
   "metadata": {},
   "outputs": [],
   "source": [
    "# Run the simulation (takes ~10 seconds)\n",
    "my_TSO.simulate()"
   ]
  },
  {
   "cell_type": "markdown",
   "metadata": {},
   "source": [
    "We can view frames of the simulation with the `plot` method like so:"
   ]
  },
  {
   "cell_type": "code",
   "execution_count": null,
   "metadata": {},
   "outputs": [],
   "source": [
    "# plot the TSO object \n",
    "my_TSO.plot()  "
   ]
  },
  {
   "cell_type": "markdown",
   "metadata": {},
   "source": [
    "## M Dwarf (with planet)\n",
    "Let's pretend this M dwarf is orbited by WASP107b! Why not? First get the transmission spectrum:"
   ]
  },
  {
   "cell_type": "code",
   "execution_count": null,
   "metadata": {},
   "outputs": [],
   "source": [
    "# Get the planet data\n",
    "planet = np.genfromtxt(resource_filename('awesimsoss', '/files/WASP107b_pandexo_input_spectrum.dat'), unpack=True)\n",
    "planet_wave, planet_trans = [planet[0]*q.um, planet[1]]\n",
    "\n",
    "# Plot it\n",
    "fig = figure(width=600, height=300, title='Planetary Transit Spectrum')\n",
    "fig.line(planet_wave, planet_trans, legend='Input Transmission')\n",
    "fig.xaxis.axis_label = 'Wavelength [um]'\n",
    "fig.yaxis.axis_label = 'Transit Depth [ppm]'\n",
    "show(fig)"
   ]
  },
  {
   "cell_type": "code",
   "execution_count": null,
   "metadata": {},
   "outputs": [],
   "source": [
    "# Set the orbital parameters with the Batman package (https://www.cfa.harvard.edu/~lkreidberg/batman/quickstart.html)\n",
    "params = batman.TransitParams()\n",
    "params.t0 = 0.001               # Time of inferior conjunction (days)\n",
    "params.per = 0.03               # Orbital period (days)\n",
    "params.rp = 0.15                # Planet radius (in units of R*)\n",
    "params.a = 0.0558*q.AU.to(ac.R_sun)*0.66                  # Semi-major axis (in units of R*)\n",
    "params.inc = 89.8               # Orbital inclination (in degrees)\n",
    "params.ecc = 0.                 # Eccentricity\n",
    "params.w = 90.                  # Longitude of periastron (in degrees) \n",
    "params.u = [0.1, 0.1]           # Limb darkening coefficients [u1, u2]\n",
    "params.limb_dark = \"quadratic\"  # Limb darkening model\n",
    "\n",
    "# Make the transit model and add the stellar params\n",
    "tmodel = batman.TransitModel(params, my_TSO.time.jd)\n",
    "tmodel.teff = 3500              # Effective temperature of the host star\n",
    "tmodel.logg = 5                 # log surface gravity of the host star\n",
    "tmodel.feh = 0                  # Metallicity of the host star"
   ]
  },
  {
   "cell_type": "code",
   "execution_count": null,
   "metadata": {},
   "outputs": [],
   "source": [
    "# Run the simulation, this time including the planet\n",
    "my_TSO.simulate(planet=[planet_wave, planet_trans], tmodel=tmodel)"
   ]
  },
  {
   "cell_type": "markdown",
   "metadata": {},
   "source": [
    "## Exporting Results"
   ]
  },
  {
   "cell_type": "markdown",
   "metadata": {},
   "source": [
    "Create a fits file with your time series observations with ``export`` like so:"
   ]
  },
  {
   "cell_type": "code",
   "execution_count": null,
   "metadata": {
    "scrolled": true
   },
   "outputs": [],
   "source": [
    "my_TSO.export('my_soss_simulation.fits')"
   ]
  },
  {
   "cell_type": "code",
   "execution_count": null,
   "metadata": {},
   "outputs": [],
   "source": []
  }
 ],
 "metadata": {
  "kernelspec": {
   "display_name": "awesimsoss",
   "language": "python",
   "name": "awesimsoss"
  },
  "language_info": {
   "codemirror_mode": {
    "name": "ipython",
    "version": 3
   },
   "file_extension": ".py",
   "mimetype": "text/x-python",
   "name": "python",
   "nbconvert_exporter": "python",
   "pygments_lexer": "ipython3",
   "version": "3.6.8"
  }
 },
 "nbformat": 4,
 "nbformat_minor": 2
}
