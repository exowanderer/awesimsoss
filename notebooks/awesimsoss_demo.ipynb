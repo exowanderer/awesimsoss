{
 "cells": [
  {
   "cell_type": "markdown",
   "metadata": {},
   "source": [
    "# AWESim SOSS\n",
    "\n",
    "**Analyzing Webb Exoplanet Simulations with SOSS**"
   ]
  },
  {
   "cell_type": "code",
   "execution_count": 2,
   "metadata": {
    "collapsed": false
   },
   "outputs": [
    {
     "name": "stdout",
     "output_type": "stream",
     "text": [
      "The autoreload extension is already loaded. To reload it, use:\n",
      "  %reload_ext autoreload\n"
     ]
    }
   ],
   "source": [
    "# Magic functions\n",
    "%matplotlib inline\n",
    "%load_ext autoreload\n",
    "%autoreload 2"
   ]
  },
  {
   "cell_type": "code",
   "execution_count": 3,
   "metadata": {
    "collapsed": false
   },
   "outputs": [
    {
     "name": "stderr",
     "output_type": "stream",
     "text": [
      "WARNING: AstropyDeprecationWarning: astropy.utils.compat.funcsigs is now deprecated - use inspect instead [astropy.utils.compat.funcsigs]\n",
      "/Users/jfilippazzo/miniconda3/envs/astroconda/lib/python3.5/site-packages/matplotlib/__init__.py:1357: UserWarning:  This call to matplotlib.use() has no effect\n",
      "because the backend has already been chosen;\n",
      "matplotlib.use() must be called *before* pylab, matplotlib.pyplot,\n",
      "or matplotlib.backends is imported for the first time.\n",
      "\n",
      "  warnings.warn(_use_error_msg)\n"
     ]
    }
   ],
   "source": [
    "# Imports\n",
    "import numpy as np\n",
    "import astropy.units as q\n",
    "import matplotlib.pyplot as plt\n",
    "from pkg_resources import resource_filename\n",
    "from AWESim_SOSS.sim2D import awesim"
   ]
  },
  {
   "cell_type": "markdown",
   "metadata": {},
   "source": [
    "## Late-M Dwarf TSO\n",
    "\n",
    "Here is how to generate time series observations of a brown dwarf (or any other isolated star with no transiting planet).\n",
    "\n",
    "We need two components to generate this simulation:\n",
    "- A flux calibrated stellar spectrum\n",
    "- A specified number of integrations and groups for the observation\n",
    "\n",
    "Let's use this 3500K stellar spectrum with a J magnitude of 9."
   ]
  },
  {
   "cell_type": "code",
   "execution_count": 3,
   "metadata": {
    "collapsed": false,
    "scrolled": true
   },
   "outputs": [
    {
     "data": {
      "image/png": "[encoded data removed]",
      "text/plain": [
       "<matplotlib.figure.Figure at 0x115ace0f0>"
      ]
     },
     "metadata": {},
     "output_type": "display_data"
    }
   ],
   "source": [
    "# Get the wavelength and flux of the star with units\n",
    "star = np.genfromtxt(resource_filename('AWESim_SOSS','files/scaled_spectrum.txt'), unpack=True)\n",
    "star1D = [star[0]*q.um, (star[1]*q.W/q.m**2/q.um).to(q.erg/q.s/q.cm**2/q.AA)]\n",
    "\n",
    "# Plot it \n",
    "plt.figure(figsize=(13,2));\n",
    "plt.plot(*star1D);\n",
    "plt.xlim(0.5,2.9);\n",
    "plt.title('3500 K star @ J=9');\n",
    "plt.ylabel('Flux Density [erg/s/cm2/A]');\n",
    "plt.xlabel('Wavelength [um]');"
   ]
  },
  {
   "cell_type": "markdown",
   "metadata": {},
   "source": [
    "Now we can intialize the silumation."
   ]
  },
  {
   "cell_type": "code",
   "execution_count": 1,
   "metadata": {
    "collapsed": false
   },
   "outputs": [
    {
     "ename": "NameError",
     "evalue": "name 'awesim' is not defined",
     "output_type": "error",
     "traceback": [
      "\u001b[0;31m---------------------------------------------------------------------------\u001b[0m",
      "\u001b[0;31mNameError\u001b[0m                                 Traceback (most recent call last)",
      "\u001b[0;32m<ipython-input-1-2a2a8c2cda3c>\u001b[0m in \u001b[0;36m<module>\u001b[0;34m()\u001b[0m\n\u001b[1;32m      1\u001b[0m \u001b[0;31m# Initialize the simulation\u001b[0m\u001b[0;34m\u001b[0m\u001b[0;34m\u001b[0m\u001b[0m\n\u001b[1;32m      2\u001b[0m \u001b[0mngrps\u001b[0m\u001b[0;34m,\u001b[0m \u001b[0mnints\u001b[0m \u001b[0;34m=\u001b[0m \u001b[0;36m3\u001b[0m\u001b[0;34m,\u001b[0m \u001b[0;36m100\u001b[0m\u001b[0;34m\u001b[0m\u001b[0m\n\u001b[0;32m----> 3\u001b[0;31m \u001b[0mTSO1\u001b[0m \u001b[0;34m=\u001b[0m \u001b[0mawesim\u001b[0m\u001b[0;34m.\u001b[0m\u001b[0mTSO\u001b[0m\u001b[0;34m(\u001b[0m\u001b[0mngrps\u001b[0m\u001b[0;34m,\u001b[0m \u001b[0mnints\u001b[0m\u001b[0;34m,\u001b[0m \u001b[0mstar1D\u001b[0m\u001b[0;34m)\u001b[0m\u001b[0;34m\u001b[0m\u001b[0m\n\u001b[0m",
      "\u001b[0;31mNameError\u001b[0m: name 'awesim' is not defined"
     ]
    }
   ],
   "source": [
    "# Initialize the simulation\n",
    "ngrps, nints = 3, 100\n",
    "TSO1 = awesim.TSO(ngrps, nints, star1D)"
   ]
  },
  {
   "cell_type": "markdown",
   "metadata": {},
   "source": [
    "And then run the simulation (this takes about 2 minutes)..."
   ]
  },
  {
   "cell_type": "code",
   "execution_count": null,
   "metadata": {
    "collapsed": false
   },
   "outputs": [
    {
     "name": "stdout",
     "output_type": "stream",
     "text": [
      "Calculating order 1 light curves...\n"
     ]
    }
   ],
   "source": [
    "# Now run it\n",
    "TSO1.run_simulation()"
   ]
  },
  {
   "cell_type": "code",
   "execution_count": null,
   "metadata": {
    "collapsed": false,
    "scrolled": false
   },
   "outputs": [],
   "source": [
    "# Take a look\n",
    "TSO1.plot_frame()"
   ]
  },
  {
   "cell_type": "code",
   "execution_count": null,
   "metadata": {
    "collapsed": false
   },
   "outputs": [],
   "source": [
    "TSO1.plot_slice(500)"
   ]
  },
  {
   "cell_type": "markdown",
   "metadata": {},
   "source": [
    "## G 240-52 (M4)\n",
    "\n",
    "This uses actual data, though there are gaps."
   ]
  },
  {
   "cell_type": "code",
   "execution_count": null,
   "metadata": {
    "collapsed": false
   },
   "outputs": [],
   "source": [
    "# Get the raw data\n",
    "wave_s_raw, flux_s_raw = np.genfromtxt(pkg_path+'/files/m4v_combined_template.txt', unpack=True)\n",
    "\n",
    "# Scale by K magnitude\n",
    "Kmag = 9.128 # From SIMBAD\n",
    "wave_s, flux_s, *_ = awesim.norm_to_mag([wave_s_raw*q.um,flux_s_raw*q.erg/q.s/q.cm**2/q.AA], Kmag, K)\n",
    "M4 = [wave_s, flux_s]\n",
    "\n",
    "# Plot it \n",
    "plt.figure(figsize=(13,2))\n",
    "plt.plot(*M4)\n",
    "plt.xlim(0.5,2.9)\n",
    "plt.title('Stellar spectrum @ K={}'.format(Kmag))\n",
    "plt.ylabel('Flux Density [erg/s/cm2/A]')\n",
    "plt.xlabel('Wavelength [um]')"
   ]
  },
  {
   "cell_type": "code",
   "execution_count": null,
   "metadata": {
    "collapsed": false
   },
   "outputs": [],
   "source": [
    "# Initialize and run the simulation\n",
    "ngrps, nints = 3, 100\n",
    "TSO2 = awesim.TSO(ngrps, nints, M4)\n",
    "TSO2.run_simulation()"
   ]
  },
  {
   "cell_type": "code",
   "execution_count": null,
   "metadata": {
    "collapsed": false
   },
   "outputs": [],
   "source": [
    "TSO2.plot_frame(order=1, scale='linear')\n",
    "# This is way too thin and choppy. Try oversampling the psf so that\n",
    "# the psf_position() draw is more varied."
   ]
  },
  {
   "cell_type": "code",
   "execution_count": null,
   "metadata": {
    "collapsed": false
   },
   "outputs": [],
   "source": [
    "# Take a look!\n",
    "TSO2.plot_frame(order=1, scale='linear')\n",
    "TSO2.plot_frame(order=2, scale='linear')\n",
    "TSO2.plot_frame(scale='linear')"
   ]
  },
  {
   "cell_type": "code",
   "execution_count": null,
   "metadata": {
    "collapsed": false
   },
   "outputs": [],
   "source": [
    "TSO2.plot_spectrum(order=1)"
   ]
  },
  {
   "cell_type": "markdown",
   "metadata": {},
   "source": [
    "## WASP-107 TSO (without planet)"
   ]
  },
  {
   "cell_type": "code",
   "execution_count": null,
   "metadata": {
    "collapsed": false
   },
   "outputs": [],
   "source": [
    "# Stellar spectrum from model grid @ mu=1\n",
    "teff, logg, feh = 4430, 4.51, 0.02\n",
    "model_grid = core.ModelGrid(os.environ['MODELGRID_DIR'], Teff_rng=(4400,4500), logg_rng=(4.5,5), FeH_rng=(0,0.5), wave_rng=(0.5,2.8), resolution=700)\n",
    "star = model_grid.get(teff, logg, feh)\n",
    "wave_s_raw, flux_s_raw = star['wave'], star['flux'][-1]"
   ]
  },
  {
   "cell_type": "code",
   "execution_count": null,
   "metadata": {
    "collapsed": false
   },
   "outputs": [],
   "source": [
    "# Scale by K magnitude\n",
    "Kmag = 8.637 # From SIMBAD\n",
    "wave_s, flux_s, *_ = awesim.norm_to_mag([wave_s_raw*q.um,flux_s_raw*q.erg/q.s/q.cm**2/q.AA], Kmag, K)\n",
    "WASP107 = [wave_s, flux_s]\n",
    "\n",
    "# Plot it \n",
    "plt.figure(figsize=(13,2))\n",
    "plt.plot(*WASP107)\n",
    "plt.xlim(0.5,2.9)\n",
    "plt.title('Stellar spectrum @ K={}'.format(Kmag))\n",
    "plt.ylabel('Flux Density [erg/s/cm2/A]')\n",
    "plt.xlabel('Wavelength [um]')"
   ]
  },
  {
   "cell_type": "code",
   "execution_count": null,
   "metadata": {
    "collapsed": false
   },
   "outputs": [],
   "source": [
    "# Initialize and run the simulation\n",
    "ngrps, nints = 3, 100\n",
    "TSO3 = awesim.TSO(ngrps, nints, WASP107, extend=100)\n",
    "TSO3.run_simulation()"
   ]
  },
  {
   "cell_type": "code",
   "execution_count": null,
   "metadata": {
    "collapsed": false
   },
   "outputs": [],
   "source": [
    "TSO3.plot_frame()"
   ]
  },
  {
   "cell_type": "markdown",
   "metadata": {},
   "source": [
    "## WASP 107 TSO (with planet)\n",
    "\n",
    "We need five components to generate a transiting exoplanet:\n",
    "- A flux calibrated stellar spectrum\n",
    "- A time axis for each frame of the TSO\n",
    "- A transmission spectrum of the planet\n",
    "- A map of the limb darkening coefficients at each pixel\n",
    "- The orbital parameters of the planet\n",
    "\n",
    "We have the stellar spectrum from above so let's get the planetary transmission spectrum (generated with Exotransmit)."
   ]
  },
  {
   "cell_type": "code",
   "execution_count": null,
   "metadata": {
    "collapsed": false
   },
   "outputs": [],
   "source": [
    "# Get the forward model planet spectrum generated by Matt...\n",
    "WASP107b = np.genfromtxt(pkg_path+'/files/WASP107b_pandexo_input_spectrum.dat', unpack=True)\n",
    "\n",
    "# Plot it\n",
    "plt.plot(*WASP107b)\n",
    "plt.xlim(0.5,2.9)\n",
    "plt.title('Planetary Transmission Spectrum @ mu=1')\n",
    "plt.ylabel('Rp/R*')\n",
    "plt.xlabel('Wavelength [um]')"
   ]
  },
  {
   "cell_type": "markdown",
   "metadata": {},
   "source": [
    "Now we must calaulate a map of the limb darkening coefficients for the star through the GR700XD filter. This takes a few minutes so I precomputed and saved the values."
   ]
  },
  {
   "cell_type": "code",
   "execution_count": null,
   "metadata": {
    "collapsed": false
   },
   "outputs": [],
   "source": [
    "# Specify the limb darkening profile\n",
    "profile = 'quadratic'\n",
    "filename = '{}_ldc_lookup_{}_{}_{}.save'.format(profile,teff,logg,feh)\n",
    "\n",
    "# ============================================================================\n",
    "# Generate a map of the LDCs at every pixel (Only do this once!)\n",
    "# awesim.ldc_lookup(profile, star, model_grid, save=pkg_path+'/files/')\n",
    "# awesim.ld_coefficient_map(pkg_path+'/files/'+filename)\n",
    "# ============================================================================\n",
    "\n",
    "# Get the LDC map from file\n",
    "ld_coeffs = joblib.load(pkg_path+'/files/'+filename.replace('lookup','map'))"
   ]
  },
  {
   "cell_type": "markdown",
   "metadata": {},
   "source": [
    "Now let's use Batman to set the orbital paramaters."
   ]
  },
  {
   "cell_type": "code",
   "execution_count": null,
   "metadata": {
    "collapsed": false,
    "scrolled": false
   },
   "outputs": [],
   "source": [
    "# Set the wavelength independent orbital parameters\n",
    "time_axis = np.linspace(-0.2,0.2, 100) #TSO3.time\n",
    "params = batman.TransitParams()\n",
    "params.t0 = time_axis[len(time_axis)//2]      # time of inferior conjunction\n",
    "params.per = 5.7214742                        # orbital period\n",
    "params.a = 0.0558*q.AU.to(ac.R_sun)*0.66      # semi-major axis (in units of stellar radii)\n",
    "params.inc = 89.8                             # orbital inclination (in degrees)\n",
    "params.ecc = 0.                               # eccentricity\n",
    "params.w = 90.                                # longitude of periastron (in degrees)\n",
    "\n",
    "# Test it\n",
    "params.limb_dark = 'quadratic'\n",
    "params.u = ld_coeffs[0][123]\n",
    "params.rp = (0.94*ac.R_jup.to(ac.R_sun)*0.66).value\n",
    "\n",
    "# Generate the light curve for this pixel\n",
    "m = batman.TransitModel(params, time_axis)\n",
    "lc = m.light_curve(params)\n",
    "plt.plot(time_axis, lc)\n",
    "plt.ylim(0.995,1.0005)"
   ]
  },
  {
   "cell_type": "code",
   "execution_count": null,
   "metadata": {
    "collapsed": true
   },
   "outputs": [],
   "source": [
    "lc = m.light_curve"
   ]
  },
  {
   "cell_type": "markdown",
   "metadata": {},
   "source": [
    "Now we can run the simulator."
   ]
  },
  {
   "cell_type": "code",
   "execution_count": null,
   "metadata": {
    "collapsed": false,
    "scrolled": true
   },
   "outputs": [],
   "source": [
    "# Create TSO object\n",
    "ngrps, nints = 3, 100\n",
    "TSO4 = awesim.TSO(ngrps, nints, WASP107, WASP107b, params, ld_coeffs)\n",
    "TSO4.run_simulation(orders=[1,2])"
   ]
  },
  {
   "cell_type": "code",
   "execution_count": null,
   "metadata": {
    "collapsed": false
   },
   "outputs": [],
   "source": [
    "TSO4.plot_frame()"
   ]
  },
  {
   "cell_type": "code",
   "execution_count": null,
   "metadata": {
    "collapsed": false,
    "scrolled": true
   },
   "outputs": [],
   "source": [
    "TSO4.plot_lightcurve([15,300,500])"
   ]
  },
  {
   "cell_type": "code",
   "execution_count": null,
   "metadata": {
    "collapsed": true
   },
   "outputs": [],
   "source": []
  }
 ],
 "metadata": {
  "anaconda-cloud": {},
  "kernelspec": {
   "display_name": "Python [conda env:astroconda]",
   "language": "python",
   "name": "conda-env-astroconda-py"
  },
  "language_info": {
   "codemirror_mode": {
    "name": "ipython",
    "version": 3
   },
   "file_extension": ".py",
   "mimetype": "text/x-python",
   "name": "python",
   "nbconvert_exporter": "python",
   "pygments_lexer": "ipython3",
   "version": "3.5.2"
  }
 },
 "nbformat": 4,
 "nbformat_minor": 1
}
